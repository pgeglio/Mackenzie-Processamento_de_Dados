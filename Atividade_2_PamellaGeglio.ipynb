{
  "nbformat": 4,
  "nbformat_minor": 0,
  "metadata": {
    "colab": {
      "name": "Atividade 2.ipynb",
      "provenance": [],
      "collapsed_sections": []
    },
    "kernelspec": {
      "name": "python3",
      "display_name": "Python 3"
    }
  },
  "cells": [
    {
      "cell_type": "markdown",
      "metadata": {
        "id": "xVbixF_x3GQb"
      },
      "source": [
        "\n",
        "\n",
        "\n",
        "\n",
        "\n",
        "# **Atividade 02**\n",
        "\n",
        "Aluna: Pâmella Geglio\n"
      ]
    },
    {
      "cell_type": "code",
      "metadata": {
        "id": "6EHupDo_5rxC"
      },
      "source": [
        "#Este notebook foi feito no Google Colab, antes de iniciar execução é necessário fazer upload do arquivo CarStealing.csv"
      ],
      "execution_count": 1,
      "outputs": []
    },
    {
      "cell_type": "code",
      "metadata": {
        "id": "IMn6sAll5f7E"
      },
      "source": [
        "# instalar as dependências\n",
        "!apt-get install openjdk-8-jdk-headless -qq > /dev/null\n",
        "!wget -q https://archive.apache.org/dist/spark/spark-2.4.4/spark-2.4.4-bin-hadoop2.7.tgz\n",
        "!tar xf spark-2.4.4-bin-hadoop2.7.tgz\n",
        "!pip install -q findspark"
      ],
      "execution_count": 2,
      "outputs": []
    },
    {
      "cell_type": "code",
      "metadata": {
        "id": "tmzuHUG-9W4G"
      },
      "source": [
        "# configurar as variáveis de ambiente\n",
        "import os\n",
        "os.environ[\"JAVA_HOME\"] = \"/usr/lib/jvm/java-8-openjdk-amd64\"\n",
        "os.environ[\"SPARK_HOME\"] = \"/content/spark-2.4.4-bin-hadoop2.7\"\n",
        " \n",
        "# tornar o pyspark \"importável\"\n",
        "import findspark\n",
        "findspark.init('spark-2.4.4-bin-hadoop2.7')"
      ],
      "execution_count": 3,
      "outputs": []
    },
    {
      "cell_type": "code",
      "metadata": {
        "colab": {
          "base_uri": "https://localhost:8080/"
        },
        "id": "R_McajsN9cRH",
        "outputId": "3f304453-2f01-4853-ddae-b90f86fd8268"
      },
      "source": [
        "# iniciar uma sessão local \n",
        "from pyspark.sql import SparkSession\n",
        "sc = SparkSession.builder.master('local[*]').getOrCreate()\n",
        "spark = SparkSession(sc)\n",
        " \n",
        "# carregar dados\n",
        "df_spark = sc.read.csv(\"CarStealing.csv\", inferSchema=True, header=True)\n",
        " \n",
        "# ver algumas informações sobre os tipos de dados de cada coluna\n",
        "df_spark.printSchema()"
      ],
      "execution_count": 4,
      "outputs": [
        {
          "output_type": "stream",
          "text": [
            "root\n",
            " |-- ID: integer (nullable = true)\n",
            " |-- Date: string (nullable = true)\n",
            " |-- LocationDescription: string (nullable = true)\n",
            " |-- Arrest: boolean (nullable = true)\n",
            " |-- Domestic: boolean (nullable = true)\n",
            " |-- Beat: integer (nullable = true)\n",
            " |-- District: string (nullable = true)\n",
            " |-- CommunityArea: string (nullable = true)\n",
            " |-- Year: integer (nullable = true)\n",
            " |-- Latitude: double (nullable = true)\n",
            " |-- Longitude: double (nullable = true)\n",
            "\n"
          ],
          "name": "stdout"
        }
      ]
    },
    {
      "cell_type": "code",
      "metadata": {
        "colab": {
          "base_uri": "https://localhost:8080/"
        },
        "id": "gtMZs8MGFx2r",
        "outputId": "677cb60a-d4dd-4858-cfc0-87a28237cf56"
      },
      "source": [
        "#leitura dos 10 primeiros itens para conferência\n",
        "df_spark.show(10)"
      ],
      "execution_count": 5,
      "outputs": [
        {
          "output_type": "stream",
          "text": [
            "+-------+--------------+--------------------+------+--------+----+--------+-------------+----+-----------+------------+\n",
            "|     ID|          Date| LocationDescription|Arrest|Domestic|Beat|District|CommunityArea|Year|   Latitude|   Longitude|\n",
            "+-------+--------------+--------------------+------+--------+----+--------+-------------+----+-----------+------------+\n",
            "|8951354|12/31/12 23:15|              STREET| false|   false| 623|       6|           69|2012|41.75628399|-87.62164472|\n",
            "|8951141|12/31/12 22:00|              STREET| false|   false|1213|      12|           24|2012|41.89878849|-87.66130317|\n",
            "|8952745|12/31/12 22:00|RESIDENTIAL YARD ...| false|   false|1622|      16|           11|2012|41.96918578|-87.76766974|\n",
            "|8952223|12/31/12 22:00|              STREET| false|   false| 724|       7|           67|2012|41.76932868|-87.65772562|\n",
            "|8951608|12/31/12 21:30|              STREET| false|   false| 211|       2|           35|2012|41.83756759|-87.62176133|\n",
            "|8950793|12/31/12 20:30|              STREET|  true|   false|2521|      25|           19|2012|41.92856081|-87.75399811|\n",
            "|8950760|12/31/12 20:10|              STREET| false|   false| 423|       4|           48|2012|41.73206438|-87.56480699|\n",
            "|8951611|12/31/12 20:00|              STREET| false|   false| 231|       2|           40|2012|41.79251066|-87.61931523|\n",
            "|8951802|12/31/12 19:00|              STREET|  true|   false|1021|      10|           29|2012|41.86361905|-87.70909915|\n",
            "|8950706|12/31/12 18:00|              STREET| false|   false|1215|      12|           24|2012|41.89008017|-87.65881624|\n",
            "+-------+--------------+--------------------+------+--------+----+--------+-------------+----+-----------+------------+\n",
            "only showing top 10 rows\n",
            "\n"
          ],
          "name": "stdout"
        }
      ]
    },
    {
      "cell_type": "code",
      "metadata": {
        "colab": {
          "base_uri": "https://localhost:8080/"
        },
        "id": "5aefH9fXieaN",
        "outputId": "ab65d623-1a81-4593-8811-b390c34c2da7"
      },
      "source": [
        "#visão geral dos dataset\n",
        "df_spark.describe().show()"
      ],
      "execution_count": 6,
      "outputs": [
        {
          "output_type": "stream",
          "text": [
            "+-------+-----------------+-----------+-------------------+------------------+------------------+------------------+------------------+-------------------+-------------------+\n",
            "|summary|               ID|       Date|LocationDescription|              Beat|          District|     CommunityArea|              Year|           Latitude|          Longitude|\n",
            "+-------+-----------------+-----------+-------------------+------------------+------------------+------------------+------------------+-------------------+-------------------+\n",
            "|  count|           191641|     191641|             191641|            191641|            148589|            167038|            191641|             189365|             189365|\n",
            "|   mean|4968629.484817967|       null|               null|1258.8107711815321|11.817484941279403| 37.99935937733872| 2006.134939809331|   41.8445546727754| -87.67778220407232|\n",
            "| stddev|2342997.417823284|       null|               null| 702.5304650473086| 6.964973677632938|21.435905434273703|3.5202847616962427|0.08558300032189653|0.05733300254240494|\n",
            "|    min|          1310022|1/1/01 0:01| ABANDONED BUILDING|               111|                  |                  |              2001|        41.64470997|       -87.92550958|\n",
            "|    max|          9181151|9/9/12 9:50|          WAREHOUSE|              2535|                 9|                 9|              2012|        42.02287822|        -87.5246761|\n",
            "+-------+-----------------+-----------+-------------------+------------------+------------------+------------------+------------------+-------------------+-------------------+\n",
            "\n"
          ],
          "name": "stdout"
        }
      ]
    },
    {
      "cell_type": "markdown",
      "metadata": {
        "id": "XBGBPTmkGyY1"
      },
      "source": [
        "# **Exercícios**\n",
        "\n",
        "\n",
        "\n"
      ]
    },
    {
      "cell_type": "markdown",
      "metadata": {
        "id": "kapY3PRgtSse"
      },
      "source": [
        "### 1.\tQuantas linhas de dados (observações) estão neste conjunto de dados?"
      ]
    },
    {
      "cell_type": "markdown",
      "metadata": {
        "id": "yMaGpnVjHSwv"
      },
      "source": [
        "*Há 191641 dados neste dataset*"
      ]
    },
    {
      "cell_type": "code",
      "metadata": {
        "colab": {
          "base_uri": "https://localhost:8080/"
        },
        "id": "6PILEoz-99SJ",
        "outputId": "27dc1ff9-6645-4da4-9930-a33ee12e575b"
      },
      "source": [
        "df_spark.count()"
      ],
      "execution_count": 7,
      "outputs": [
        {
          "output_type": "execute_result",
          "data": {
            "text/plain": [
              "191641"
            ]
          },
          "metadata": {
            "tags": []
          },
          "execution_count": 7
        }
      ]
    },
    {
      "cell_type": "markdown",
      "metadata": {
        "id": "X-9KDROgtdiv"
      },
      "source": [
        "### 2.\tQuantas variáveis estão neste conjunto de dados?"
      ]
    },
    {
      "cell_type": "markdown",
      "metadata": {
        "id": "G_TrUcWXHli2"
      },
      "source": [
        "*Há 11 variáveis nesse conjunto de dados*"
      ]
    },
    {
      "cell_type": "code",
      "metadata": {
        "colab": {
          "base_uri": "https://localhost:8080/"
        },
        "id": "VibsSbir-lDc",
        "outputId": "ba8c1957-3908-4936-87b2-9f94852b38b0"
      },
      "source": [
        "len(df_spark.columns)"
      ],
      "execution_count": 8,
      "outputs": [
        {
          "output_type": "execute_result",
          "data": {
            "text/plain": [
              "11"
            ]
          },
          "metadata": {
            "tags": []
          },
          "execution_count": 8
        }
      ]
    },
    {
      "cell_type": "markdown",
      "metadata": {
        "id": "fRgqOxjVFR26"
      },
      "source": [
        "### 3.\tQual é o valor máximo da variável \"ID\"? \n"
      ]
    },
    {
      "cell_type": "markdown",
      "metadata": {
        "id": "Iyce5nxDHy27"
      },
      "source": [
        "*O valor máximo é 9181151*"
      ]
    },
    {
      "cell_type": "code",
      "metadata": {
        "colab": {
          "base_uri": "https://localhost:8080/"
        },
        "id": "-GUxENcjElCL",
        "outputId": "f4d6f684-fecf-4d9f-9f7b-a3440059a020"
      },
      "source": [
        "df_spark.agg({'ID': 'max'}).show()"
      ],
      "execution_count": 9,
      "outputs": [
        {
          "output_type": "stream",
          "text": [
            "+-------+\n",
            "|max(ID)|\n",
            "+-------+\n",
            "|9181151|\n",
            "+-------+\n",
            "\n"
          ],
          "name": "stdout"
        }
      ]
    },
    {
      "cell_type": "markdown",
      "metadata": {
        "id": "wXp7ONJpHDCm"
      },
      "source": [
        "### 4.\tQual é o valor mínimo da variável \"Beat\"?"
      ]
    },
    {
      "cell_type": "markdown",
      "metadata": {
        "id": "N_qVrLskOGE9"
      },
      "source": [
        "*O valor mínimo é 111.*"
      ]
    },
    {
      "cell_type": "code",
      "metadata": {
        "colab": {
          "base_uri": "https://localhost:8080/"
        },
        "id": "nO6HmYqIOEZt",
        "outputId": "cdc25907-ae62-41c0-d804-aa8c523afcab"
      },
      "source": [
        "df_spark.agg({'Beat': 'min'}).show()"
      ],
      "execution_count": 10,
      "outputs": [
        {
          "output_type": "stream",
          "text": [
            "+---------+\n",
            "|min(Beat)|\n",
            "+---------+\n",
            "|      111|\n",
            "+---------+\n",
            "\n"
          ],
          "name": "stdout"
        }
      ]
    },
    {
      "cell_type": "markdown",
      "metadata": {
        "id": "jtod8_oWGeLE"
      },
      "source": [
        "### 5.\tQuantas observações têm valor TRUE na variável Arrest?"
      ]
    },
    {
      "cell_type": "markdown",
      "metadata": {
        "id": "3xd_oWWnOh1y"
      },
      "source": [
        "*Há 15536 observações com valor true na variável Arrest*"
      ]
    },
    {
      "cell_type": "code",
      "metadata": {
        "id": "JT5NSMwmOM-8"
      },
      "source": [
        "#importando\n",
        "from pyspark.sql.functions import countDistinct\n",
        "import pyspark.sql.functions as F\n",
        "from pyspark.sql.functions import col"
      ],
      "execution_count": 11,
      "outputs": []
    },
    {
      "cell_type": "code",
      "metadata": {
        "colab": {
          "base_uri": "https://localhost:8080/"
        },
        "id": "01-A8_0yOarL",
        "outputId": "228e7983-a1e0-45a7-f4e2-e0ed8cb3fc98"
      },
      "source": [
        "df_spark.groupBy(\"Arrest\").agg(countDistinct(\"ID\")).where(col(\"Arrest\")==\"true\").show()"
      ],
      "execution_count": 12,
      "outputs": [
        {
          "output_type": "stream",
          "text": [
            "+------+------------------+\n",
            "|Arrest|count(DISTINCT ID)|\n",
            "+------+------------------+\n",
            "|  true|             15536|\n",
            "+------+------------------+\n",
            "\n"
          ],
          "name": "stdout"
        }
      ]
    },
    {
      "cell_type": "markdown",
      "metadata": {
        "id": "z1BXEn3kKn08"
      },
      "source": [
        "### 6.\tQuantas observações têm um valor de Descrição de Localização de ALLEY?"
      ]
    },
    {
      "cell_type": "markdown",
      "metadata": {
        "id": "gUmQ17tOOsiI"
      },
      "source": [
        "*Há 2308 observações com LocationDescription igual a Alley*"
      ]
    },
    {
      "cell_type": "code",
      "metadata": {
        "colab": {
          "base_uri": "https://localhost:8080/"
        },
        "id": "_rh6MLPDOtT8",
        "outputId": "56a6cbc4-3031-47f9-ef44-16b734a4f74f"
      },
      "source": [
        "df_spark.groupBy(\"LocationDescription\").agg(countDistinct(\"ID\")).where(col(\"LocationDescription\")==\"ALLEY\").show()"
      ],
      "execution_count": 13,
      "outputs": [
        {
          "output_type": "stream",
          "text": [
            "+-------------------+------------------+\n",
            "|LocationDescription|count(DISTINCT ID)|\n",
            "+-------------------+------------------+\n",
            "|              ALLEY|              2308|\n",
            "+-------------------+------------------+\n",
            "\n"
          ],
          "name": "stdout"
        }
      ]
    },
    {
      "cell_type": "markdown",
      "metadata": {
        "id": "kauOL0F6K7Sl"
      },
      "source": [
        "### 7.\tEm que formato estão as entradas na variável Data?"
      ]
    },
    {
      "cell_type": "markdown",
      "metadata": {
        "id": "UJ37th6fO9NB"
      },
      "source": [
        "*Estão em formato String*"
      ]
    },
    {
      "cell_type": "code",
      "metadata": {
        "id": "cT23MBJvK-vo",
        "colab": {
          "base_uri": "https://localhost:8080/"
        },
        "outputId": "ca8c8a94-a086-4b9d-9815-e7a828ca70d0"
      },
      "source": [
        "df_spark.printSchema()"
      ],
      "execution_count": 14,
      "outputs": [
        {
          "output_type": "stream",
          "text": [
            "root\n",
            " |-- ID: integer (nullable = true)\n",
            " |-- Date: string (nullable = true)\n",
            " |-- LocationDescription: string (nullable = true)\n",
            " |-- Arrest: boolean (nullable = true)\n",
            " |-- Domestic: boolean (nullable = true)\n",
            " |-- Beat: integer (nullable = true)\n",
            " |-- District: string (nullable = true)\n",
            " |-- CommunityArea: string (nullable = true)\n",
            " |-- Year: integer (nullable = true)\n",
            " |-- Latitude: double (nullable = true)\n",
            " |-- Longitude: double (nullable = true)\n",
            "\n"
          ],
          "name": "stdout"
        }
      ]
    },
    {
      "cell_type": "markdown",
      "metadata": {
        "id": "2GWwPq3fPOPM"
      },
      "source": [
        "### 8.\tQual é o mês e ano da data mediana no nosso conjunto de dados?"
      ]
    },
    {
      "cell_type": "markdown",
      "metadata": {
        "id": "rGIiEeyx190D"
      },
      "source": [
        "A mediana é Maio de 2006"
      ]
    },
    {
      "cell_type": "code",
      "metadata": {
        "id": "cOfOzLE8QMsK"
      },
      "source": [
        "#calculo da metade dos valores para identificar qual o valor da mediana"
      ],
      "execution_count": 15,
      "outputs": []
    },
    {
      "cell_type": "code",
      "metadata": {
        "colab": {
          "base_uri": "https://localhost:8080/"
        },
        "id": "CYGHGZAYzYcT",
        "outputId": "e38a5fed-6278-4399-9937-3acc5a1b613f"
      },
      "source": [
        "metade = df_spark.count()/2\n",
        "metade\n"
      ],
      "execution_count": 16,
      "outputs": [
        {
          "output_type": "execute_result",
          "data": {
            "text/plain": [
              "95820.5"
            ]
          },
          "metadata": {
            "tags": []
          },
          "execution_count": 16
        }
      ]
    },
    {
      "cell_type": "code",
      "metadata": {
        "id": "kaE7xK7P9J4x"
      },
      "source": [
        "#importado\n",
        "from pyspark.sql.functions import to_date\n",
        "from pyspark.context import SparkContext\n",
        "from pyspark.sql.session import SparkSession"
      ],
      "execution_count": 17,
      "outputs": []
    },
    {
      "cell_type": "code",
      "metadata": {
        "id": "NMouNjsu9L2A"
      },
      "source": [
        "# alterando coluna Date de Atring para Date\n",
        "spark.sql(\"set spark.sql.legacy.timeParserPolicy=LEGACY\")\n",
        "df = df_spark.withColumn(\"Date\", to_date(F.col(\"Date\"),\"MM/dd/yy\"))"
      ],
      "execution_count": 18,
      "outputs": []
    },
    {
      "cell_type": "code",
      "metadata": {
        "id": "AUFQgLLJ8pQR"
      },
      "source": [
        "# importando lit\n",
        "from pyspark.sql.functions import lit"
      ],
      "execution_count": 19,
      "outputs": []
    },
    {
      "cell_type": "code",
      "metadata": {
        "colab": {
          "base_uri": "https://localhost:8080/"
        },
        "id": "oTcCvqPV8pp0",
        "outputId": "95b35496-cbaa-44e6-dfec-0932cc59dd0f"
      },
      "source": [
        "#criando coluna com o mês para facilitar os calculos\n",
        "df_with_month = df.withColumn(\"Month\", lit(F.month(df.Date)))\n",
        "df_with_month.show(5)"
      ],
      "execution_count": 20,
      "outputs": [
        {
          "output_type": "stream",
          "text": [
            "+-------+----------+--------------------+------+--------+----+--------+-------------+----+-----------+------------+-----+\n",
            "|     ID|      Date| LocationDescription|Arrest|Domestic|Beat|District|CommunityArea|Year|   Latitude|   Longitude|Month|\n",
            "+-------+----------+--------------------+------+--------+----+--------+-------------+----+-----------+------------+-----+\n",
            "|8951354|2012-12-31|              STREET| false|   false| 623|       6|           69|2012|41.75628399|-87.62164472|   12|\n",
            "|8951141|2012-12-31|              STREET| false|   false|1213|      12|           24|2012|41.89878849|-87.66130317|   12|\n",
            "|8952745|2012-12-31|RESIDENTIAL YARD ...| false|   false|1622|      16|           11|2012|41.96918578|-87.76766974|   12|\n",
            "|8952223|2012-12-31|              STREET| false|   false| 724|       7|           67|2012|41.76932868|-87.65772562|   12|\n",
            "|8951608|2012-12-31|              STREET| false|   false| 211|       2|           35|2012|41.83756759|-87.62176133|   12|\n",
            "+-------+----------+--------------------+------+--------+----+--------+-------------+----+-----------+------------+-----+\n",
            "only showing top 5 rows\n",
            "\n"
          ],
          "name": "stdout"
        }
      ]
    },
    {
      "cell_type": "code",
      "metadata": {
        "colab": {
          "base_uri": "https://localhost:8080/"
        },
        "id": "d6byOoHN0rJQ",
        "outputId": "9264dcc5-fe65-4135-988e-119b5d4bcb8f"
      },
      "source": [
        "#agrupando por ano\n",
        "df_with_month.groupBy(\"Year\").count().orderBy(col(\"Year\")).show(100)"
      ],
      "execution_count": 21,
      "outputs": [
        {
          "output_type": "stream",
          "text": [
            "+----+-----+\n",
            "|Year|count|\n",
            "+----+-----+\n",
            "|2001|20669|\n",
            "|2002|18753|\n",
            "|2003|16657|\n",
            "|2004|16862|\n",
            "|2005|16484|\n",
            "|2006|16098|\n",
            "|2007|14280|\n",
            "|2008|14445|\n",
            "|2009|12167|\n",
            "|2010|15497|\n",
            "|2011|15637|\n",
            "|2012|14092|\n",
            "+----+-----+\n",
            "\n"
          ],
          "name": "stdout"
        }
      ]
    },
    {
      "cell_type": "code",
      "metadata": {
        "id": "G6XWDOm4Qjhq"
      },
      "source": [
        "#agrupando por mês e ano"
      ],
      "execution_count": 22,
      "outputs": []
    },
    {
      "cell_type": "code",
      "metadata": {
        "colab": {
          "base_uri": "https://localhost:8080/"
        },
        "id": "FESA5XkqxDjE",
        "outputId": "4312d2c7-80d6-49b2-efbc-3377d91342a1"
      },
      "source": [
        "df_with_month.groupBy(\"Year\",\"Month\").count().orderBy(col(\"Year\"),(\"Month\")).show(100)"
      ],
      "execution_count": 23,
      "outputs": [
        {
          "output_type": "stream",
          "text": [
            "+----+-----+-----+\n",
            "|Year|Month|count|\n",
            "+----+-----+-----+\n",
            "|2001|    1| 1517|\n",
            "|2001|    2| 1273|\n",
            "|2001|    3| 1542|\n",
            "|2001|    4| 1500|\n",
            "|2001|    5| 1500|\n",
            "|2001|    6| 1665|\n",
            "|2001|    7| 1952|\n",
            "|2001|    8| 1795|\n",
            "|2001|    9| 1972|\n",
            "|2001|   10| 2291|\n",
            "|2001|   11| 1869|\n",
            "|2001|   12| 1793|\n",
            "|2002|    1| 1628|\n",
            "|2002|    2| 1434|\n",
            "|2002|    3| 1609|\n",
            "|2002|    4| 1556|\n",
            "|2002|    5| 1511|\n",
            "|2002|    6| 1430|\n",
            "|2002|    7| 1744|\n",
            "|2002|    8| 1714|\n",
            "|2002|    9| 1576|\n",
            "|2002|   10| 1683|\n",
            "|2002|   11| 1515|\n",
            "|2002|   12| 1353|\n",
            "|2003|    1| 1308|\n",
            "|2003|    2| 1157|\n",
            "|2003|    3| 1335|\n",
            "|2003|    4| 1415|\n",
            "|2003|    5| 1429|\n",
            "|2003|    6| 1383|\n",
            "|2003|    7| 1458|\n",
            "|2003|    8| 1437|\n",
            "|2003|    9| 1466|\n",
            "|2003|   10| 1411|\n",
            "|2003|   11| 1415|\n",
            "|2003|   12| 1443|\n",
            "|2004|    1| 1323|\n",
            "|2004|    2| 1272|\n",
            "|2004|    3| 1448|\n",
            "|2004|    4| 1437|\n",
            "|2004|    5| 1441|\n",
            "|2004|    6| 1448|\n",
            "|2004|    7| 1482|\n",
            "|2004|    8| 1457|\n",
            "|2004|    9| 1361|\n",
            "|2004|   10| 1387|\n",
            "|2004|   11| 1376|\n",
            "|2004|   12| 1430|\n",
            "|2005|    1| 1292|\n",
            "|2005|    2| 1198|\n",
            "|2005|    3| 1421|\n",
            "|2005|    4| 1293|\n",
            "|2005|    5| 1395|\n",
            "|2005|    6| 1357|\n",
            "|2005|    7| 1283|\n",
            "|2005|    8| 1346|\n",
            "|2005|    9| 1325|\n",
            "|2005|   10| 1575|\n",
            "|2005|   11| 1434|\n",
            "|2005|   12| 1565|\n",
            "|2006|    1| 1545|\n",
            "|2006|    2| 1285|\n",
            "|2006|    3| 1344|\n",
            "|2006|    4| 1260|\n",
            "|2006|    5| 1451|\n",
            "|2006|    6| 1445|\n",
            "|2006|    7| 1378|\n",
            "|2006|    8| 1433|\n",
            "|2006|    9| 1245|\n",
            "|2006|   10| 1266|\n",
            "|2006|   11| 1200|\n",
            "|2006|   12| 1246|\n",
            "|2007|    1| 1245|\n",
            "|2007|    2| 1036|\n",
            "|2007|    3| 1181|\n",
            "|2007|    4| 1138|\n",
            "|2007|    5| 1232|\n",
            "|2007|    6| 1213|\n",
            "|2007|    7| 1176|\n",
            "|2007|    8| 1282|\n",
            "|2007|    9| 1142|\n",
            "|2007|   10| 1320|\n",
            "|2007|   11| 1109|\n",
            "|2007|   12| 1206|\n",
            "|2008|    1| 1144|\n",
            "|2008|    2|  985|\n",
            "|2008|    3| 1251|\n",
            "|2008|    4| 1137|\n",
            "|2008|    5| 1143|\n",
            "|2008|    6| 1281|\n",
            "|2008|    7| 1523|\n",
            "|2008|    8| 1466|\n",
            "|2008|    9| 1277|\n",
            "|2008|   10| 1149|\n",
            "|2008|   11| 1015|\n",
            "|2008|   12| 1074|\n",
            "|2009|    1| 1006|\n",
            "|2009|    2|  920|\n",
            "|2009|    3|  970|\n",
            "|2009|    4|  893|\n",
            "+----+-----+-----+\n",
            "only showing top 100 rows\n",
            "\n"
          ],
          "name": "stdout"
        }
      ]
    },
    {
      "cell_type": "code",
      "metadata": {
        "id": "eMEK1S1UQng6"
      },
      "source": [
        "#Como já fiz o calculo da metade, fui somando por ano até o falor próximo ao resultado esperado, depois somei mês a mês.\n",
        "#O valor da metade foi atingido em maio de 2005."
      ],
      "execution_count": 24,
      "outputs": []
    },
    {
      "cell_type": "markdown",
      "metadata": {
        "id": "xsyIrqTuPPm2"
      },
      "source": [
        "### 9.\tEm qual dia da semana ocorreu o maior número de roubos de veículos?"
      ]
    },
    {
      "cell_type": "markdown",
      "metadata": {
        "id": "jBQIOR_lKcPL"
      },
      "source": [
        "*Sexta é o dia que ocorre o maior número de veículos*"
      ]
    },
    {
      "cell_type": "code",
      "metadata": {
        "id": "1M2o4Vb51zPD",
        "colab": {
          "base_uri": "https://localhost:8080/"
        },
        "outputId": "b173f837-8492-415e-c65e-678301241852"
      },
      "source": [
        "#criando coluna com a informação DayOfWeek, sendo 1- Domingo, 2- Segunda, 3 Terça... e conferindo a base\n",
        "df_day_of_week = df.withColumn(\"DayOfWeek\", lit(F.dayofweek(df.Date)))\n",
        "df_day_of_week.show(5)"
      ],
      "execution_count": 25,
      "outputs": [
        {
          "output_type": "stream",
          "text": [
            "+-------+----------+--------------------+------+--------+----+--------+-------------+----+-----------+------------+---------+\n",
            "|     ID|      Date| LocationDescription|Arrest|Domestic|Beat|District|CommunityArea|Year|   Latitude|   Longitude|DayOfWeek|\n",
            "+-------+----------+--------------------+------+--------+----+--------+-------------+----+-----------+------------+---------+\n",
            "|8951354|2012-12-31|              STREET| false|   false| 623|       6|           69|2012|41.75628399|-87.62164472|        2|\n",
            "|8951141|2012-12-31|              STREET| false|   false|1213|      12|           24|2012|41.89878849|-87.66130317|        2|\n",
            "|8952745|2012-12-31|RESIDENTIAL YARD ...| false|   false|1622|      16|           11|2012|41.96918578|-87.76766974|        2|\n",
            "|8952223|2012-12-31|              STREET| false|   false| 724|       7|           67|2012|41.76932868|-87.65772562|        2|\n",
            "|8951608|2012-12-31|              STREET| false|   false| 211|       2|           35|2012|41.83756759|-87.62176133|        2|\n",
            "+-------+----------+--------------------+------+--------+----+--------+-------------+----+-----------+------------+---------+\n",
            "only showing top 5 rows\n",
            "\n"
          ],
          "name": "stdout"
        }
      ]
    },
    {
      "cell_type": "code",
      "metadata": {
        "colab": {
          "base_uri": "https://localhost:8080/"
        },
        "id": "4lKgdtN8A7Hb",
        "outputId": "2902ec61-780e-4694-9624-d2db8f968f3b"
      },
      "source": [
        "# mostrando o dia da semana com maior quantidade de crimes\n",
        "df_day_of_week.groupBy(\"DayOfWeek\").count().orderBy(col(\"count\").desc()).show(1)"
      ],
      "execution_count": 26,
      "outputs": [
        {
          "output_type": "stream",
          "text": [
            "+---------+-----+\n",
            "|DayOfWeek|count|\n",
            "+---------+-----+\n",
            "|        6|29284|\n",
            "+---------+-----+\n",
            "only showing top 1 row\n",
            "\n"
          ],
          "name": "stdout"
        }
      ]
    },
    {
      "cell_type": "markdown",
      "metadata": {
        "id": "uXa3L116PSbZ"
      },
      "source": [
        "### 10.\tQual mês tem o maior número de roubos de veículos para os quais foi feita uma prisão?"
      ]
    },
    {
      "cell_type": "markdown",
      "metadata": {
        "id": "scpOBf2tK89v"
      },
      "source": [
        "*Janeiro é o mês com maior quantidade de crimes para os quais foi feita uma prisão(1435)*"
      ]
    },
    {
      "cell_type": "code",
      "metadata": {
        "colab": {
          "base_uri": "https://localhost:8080/"
        },
        "id": "ByMghM1wuWjU",
        "outputId": "0d9bb94a-da6b-44d2-813b-af78b1659f59"
      },
      "source": [
        "# filtrando \n",
        "df_with_month.filter(col(\"Arrest\")==\"true\").groupBy(\"Month\").count().orderBy(col(\"count\").desc()).show(1)"
      ],
      "execution_count": 27,
      "outputs": [
        {
          "output_type": "stream",
          "text": [
            "+-----+-----+\n",
            "|Month|count|\n",
            "+-----+-----+\n",
            "|    1| 1435|\n",
            "+-----+-----+\n",
            "only showing top 1 row\n",
            "\n"
          ],
          "name": "stdout"
        }
      ]
    },
    {
      "cell_type": "markdown",
      "metadata": {
        "id": "eLNorYtJPW2k"
      },
      "source": [
        "### 11.\tEm geral, parece que o crime aumenta ou diminui de 2002 a 2012?"
      ]
    },
    {
      "cell_type": "markdown",
      "metadata": {
        "id": "sva7O0-nP2wa"
      },
      "source": [
        "*Em geral diminuem*"
      ]
    },
    {
      "cell_type": "code",
      "metadata": {
        "colab": {
          "base_uri": "https://localhost:8080/"
        },
        "id": "IlHSFG56e8hJ",
        "outputId": "d412283b-71d5-4902-b24f-e640a96f7078"
      },
      "source": [
        "roubos = df.groupBy(\"Year\").agg(countDistinct(\"ID\").alias(\"Qtd_Roubos\")).orderBy(\"Year\")\n",
        "roubos.show()"
      ],
      "execution_count": 28,
      "outputs": [
        {
          "output_type": "stream",
          "text": [
            "+----+----------+\n",
            "|Year|Qtd_Roubos|\n",
            "+----+----------+\n",
            "|2001|     20669|\n",
            "|2002|     18753|\n",
            "|2003|     16657|\n",
            "|2004|     16862|\n",
            "|2005|     16484|\n",
            "|2006|     16098|\n",
            "|2007|     14280|\n",
            "|2008|     14445|\n",
            "|2009|     12167|\n",
            "|2010|     15497|\n",
            "|2011|     15637|\n",
            "|2012|     14092|\n",
            "+----+----------+\n",
            "\n"
          ],
          "name": "stdout"
        }
      ]
    },
    {
      "cell_type": "code",
      "metadata": {
        "id": "qFzrTbE5X5Ri"
      },
      "source": [
        "import matplotlib.pyplot as plt\n",
        "import numpy as np"
      ],
      "execution_count": 29,
      "outputs": []
    },
    {
      "cell_type": "code",
      "metadata": {
        "id": "accwVOW-YzxC"
      },
      "source": [
        "x = roubos.select('Qtd_Roubos').rdd.map(lambda row : row[0]).collect()\n",
        "y = roubos.select('Year').rdd.map(lambda row : row[0]).collect()"
      ],
      "execution_count": 30,
      "outputs": []
    },
    {
      "cell_type": "code",
      "metadata": {
        "colab": {
          "base_uri": "https://localhost:8080/",
          "height": 282
        },
        "id": "ggSr8qaCfIug",
        "outputId": "4dd44bf9-5597-47e8-ecf2-0e96031df41e"
      },
      "source": [
        "plt.scatter(x, y)\n",
        "\n",
        "z = np.polyfit(x, y, 1)\n",
        "p = np.poly1d(z)\n",
        "plt.plot(x,p(x),\"r--\")"
      ],
      "execution_count": 31,
      "outputs": [
        {
          "output_type": "execute_result",
          "data": {
            "text/plain": [
              "[<matplotlib.lines.Line2D at 0x7f05c87d7cd0>]"
            ]
          },
          "metadata": {
            "tags": []
          },
          "execution_count": 31
        },
        {
          "output_type": "display_data",
          "data": {
            "image/png": "[encoded data removed]",
            "text/plain": [
              "<Figure size 432x288 with 1 Axes>"
            ]
          },
          "metadata": {
            "tags": [],
            "needs_background": "light"
          }
        }
      ]
    },
    {
      "cell_type": "code",
      "metadata": {
        "id": "TRyPy2peNecG"
      },
      "source": [
        "# Anotação: outra forma de gerar a tabela\n",
        "# df.createOrReplaceTempView(\"TEMP\")\n",
        "# groupDF = spark.sql(\"SELECT YEAR(Date), count(*) from TEMP group by YEAR(Date) order by YEAR(Date)\")\n",
        "# groupDF.show()"
      ],
      "execution_count": 32,
      "outputs": []
    },
    {
      "cell_type": "markdown",
      "metadata": {
        "id": "XlwEo4e6PaDY"
      },
      "source": [
        "### 12.\tEm geral, parece que o crime aumenta ou diminui de 2005 para 2008?"
      ]
    },
    {
      "cell_type": "markdown",
      "metadata": {
        "id": "JLwnRltEYE9z"
      },
      "source": [
        "*Tendência de diminuição nesse período*"
      ]
    },
    {
      "cell_type": "code",
      "metadata": {
        "colab": {
          "base_uri": "https://localhost:8080/"
        },
        "id": "-P2KzE8CkSU4",
        "outputId": "f43b82aa-c5d1-4c08-f080-37be60488141"
      },
      "source": [
        "roubos = df.filter((col(\"Year\")>=\"2005\") & (col(\"Year\")<=\"2008\")).groupBy(\"Year\").agg(countDistinct(\"ID\").alias(\"Qtd_Roubos\")).orderBy(\"Year\")\n",
        "roubos.show()"
      ],
      "execution_count": 33,
      "outputs": [
        {
          "output_type": "stream",
          "text": [
            "+----+----------+\n",
            "|Year|Qtd_Roubos|\n",
            "+----+----------+\n",
            "|2005|     16484|\n",
            "|2006|     16098|\n",
            "|2007|     14280|\n",
            "|2008|     14445|\n",
            "+----+----------+\n",
            "\n"
          ],
          "name": "stdout"
        }
      ]
    },
    {
      "cell_type": "code",
      "metadata": {
        "id": "lRmPXCgokSps"
      },
      "source": [
        "x = roubos.select('Qtd_Roubos').rdd.map(lambda row : row[0]).collect()\n",
        "y = roubos.select('Year').rdd.map(lambda row : row[0]).collect()"
      ],
      "execution_count": 34,
      "outputs": []
    },
    {
      "cell_type": "code",
      "metadata": {
        "colab": {
          "base_uri": "https://localhost:8080/",
          "height": 282
        },
        "id": "-tCxBzyMkS1y",
        "outputId": "6aa15c50-c80f-44a4-a46c-a666a6b1e3e6"
      },
      "source": [
        "plt.scatter(x, y)\n",
        "\n",
        "z = np.polyfit(x, y, 1)\n",
        "p = np.poly1d(z)\n",
        "plt.plot(x,p(x),\"r--\")"
      ],
      "execution_count": 35,
      "outputs": [
        {
          "output_type": "execute_result",
          "data": {
            "text/plain": [
              "[<matplotlib.lines.Line2D at 0x7f05c894fad0>]"
            ]
          },
          "metadata": {
            "tags": []
          },
          "execution_count": 35
        },
        {
          "output_type": "display_data",
          "data": {
            "image/png": "[encoded data removed]",
            "text/plain": [
              "<Figure size 432x288 with 1 Axes>"
            ]
          },
          "metadata": {
            "tags": [],
            "needs_background": "light"
          }
        }
      ]
    },
    {
      "cell_type": "markdown",
      "metadata": {
        "id": "yWFwSGNwPdEp"
      },
      "source": [
        "### 13.\tEm geral, parece que o crime aumenta ou diminui de 2009 para 2011?"
      ]
    },
    {
      "cell_type": "markdown",
      "metadata": {
        "id": "CDM5dGTFYANi"
      },
      "source": [
        "*Leve tendência de aumento entre 2009 e 2011*\n",
        "\n",
        "\n",
        "\n"
      ]
    },
    {
      "cell_type": "code",
      "metadata": {
        "colab": {
          "base_uri": "https://localhost:8080/"
        },
        "id": "F-W8C9cRjcsj",
        "outputId": "9c142933-ee59-4797-915f-cc4c1a55befb"
      },
      "source": [
        "roubos = df.filter((col(\"Year\")>=\"2009\") & (col(\"Year\")<=\"2011\")).groupBy(\"Year\").agg(countDistinct(\"ID\").alias(\"Qtd_Roubos\")).orderBy(\"Year\")\n",
        "roubos.show()"
      ],
      "execution_count": 36,
      "outputs": [
        {
          "output_type": "stream",
          "text": [
            "+----+----------+\n",
            "|Year|Qtd_Roubos|\n",
            "+----+----------+\n",
            "|2009|     12167|\n",
            "|2010|     15497|\n",
            "|2011|     15637|\n",
            "+----+----------+\n",
            "\n"
          ],
          "name": "stdout"
        }
      ]
    },
    {
      "cell_type": "code",
      "metadata": {
        "id": "ZnDf_YfXjLd2"
      },
      "source": [
        "x = roubos.select('Qtd_Roubos').rdd.map(lambda row : row[0]).collect()\n",
        "y = roubos.select('Year').rdd.map(lambda row : row[0]).collect()"
      ],
      "execution_count": 37,
      "outputs": []
    },
    {
      "cell_type": "code",
      "metadata": {
        "colab": {
          "base_uri": "https://localhost:8080/",
          "height": 282
        },
        "id": "lpyPfj4Vj-vd",
        "outputId": "58dbe092-ffca-485b-9dd7-a40f63409af0"
      },
      "source": [
        "plt.scatter(x, y)\n",
        "\n",
        "z = np.polyfit(x, y, 1)\n",
        "p = np.poly1d(z)\n",
        "plt.plot(x,p(x),\"r--\")"
      ],
      "execution_count": 38,
      "outputs": [
        {
          "output_type": "execute_result",
          "data": {
            "text/plain": [
              "[<matplotlib.lines.Line2D at 0x7f05c8847310>]"
            ]
          },
          "metadata": {
            "tags": []
          },
          "execution_count": 38
        },
        {
          "output_type": "display_data",
          "data": {
            "image/png": "[encoded data removed]",
            "text/plain": [
              "<Figure size 432x288 with 1 Axes>"
            ]
          },
          "metadata": {
            "tags": [],
            "needs_background": "light"
          }
        }
      ]
    },
    {
      "cell_type": "markdown",
      "metadata": {
        "id": "4hJqK1ZZPkJA"
      },
      "source": [
        "### 14.\tParece que houve mais crimes para os quais foram feitas detenções na primeira metade do período de tempo ou na segunda metade do período de tempo? (Observe que o período de tempo é de 2001 a 2012, então o meio do período de tempo é o início de 2007.)"
      ]
    },
    {
      "cell_type": "markdown",
      "metadata": {
        "id": "czK_RMgAMyBS"
      },
      "source": [
        "*O primeiro período tem mais prisões que o segundo*"
      ]
    },
    {
      "cell_type": "code",
      "metadata": {
        "id": "0Z6yFbeGdAas"
      },
      "source": [
        "# mostrando total de roubos de outra forma\n",
        "# df.createOrReplaceTempView(\"TEMP\")\n",
        "# groupDF = spark.sql(\"SELECT YEAR(Date), count(*) from TEMP group by YEAR(Date) order by YEAR(Date)\")\n",
        "# groupDF.show()"
      ],
      "execution_count": 39,
      "outputs": []
    },
    {
      "cell_type": "code",
      "metadata": {
        "id": "gzfUgZELPlI-",
        "colab": {
          "base_uri": "https://localhost:8080/"
        },
        "outputId": "d43e86ef-70ca-48b6-a036-88f2dab8b21a"
      },
      "source": [
        "roubos = df.groupBy(\"Year\").agg(countDistinct(\"ID\").alias(\" Qtd_Roubo\")).orderBy(\"Year\")\n",
        "roubos.show()"
      ],
      "execution_count": 40,
      "outputs": [
        {
          "output_type": "stream",
          "text": [
            "+----+----------+\n",
            "|Year| Qtd_Roubo|\n",
            "+----+----------+\n",
            "|2001|     20669|\n",
            "|2002|     18753|\n",
            "|2003|     16657|\n",
            "|2004|     16862|\n",
            "|2005|     16484|\n",
            "|2006|     16098|\n",
            "|2007|     14280|\n",
            "|2008|     14445|\n",
            "|2009|     12167|\n",
            "|2010|     15497|\n",
            "|2011|     15637|\n",
            "|2012|     14092|\n",
            "+----+----------+\n",
            "\n"
          ],
          "name": "stdout"
        }
      ]
    },
    {
      "cell_type": "code",
      "metadata": {
        "colab": {
          "base_uri": "https://localhost:8080/"
        },
        "id": "rBtkLiM6TyTn",
        "outputId": "3614e6fd-e3c4-4dfc-b1c5-4e19fdeffaed"
      },
      "source": [
        "prisoes = df.filter(col(\"Arrest\")==\"true\").groupBy(\"Year\").agg(countDistinct(\"ID\").alias(\"Qtd_Prisoes\")).orderBy(\"Year\")\n",
        "prisoes.show()"
      ],
      "execution_count": 41,
      "outputs": [
        {
          "output_type": "stream",
          "text": [
            "+----+-----------+\n",
            "|Year|Qtd_Prisoes|\n",
            "+----+-----------+\n",
            "|2001|       2152|\n",
            "|2002|       2115|\n",
            "|2003|       1798|\n",
            "|2004|       1693|\n",
            "|2005|       1528|\n",
            "|2006|       1302|\n",
            "|2007|       1212|\n",
            "|2008|       1020|\n",
            "|2009|        840|\n",
            "|2010|        701|\n",
            "|2011|        625|\n",
            "|2012|        550|\n",
            "+----+-----------+\n",
            "\n"
          ],
          "name": "stdout"
        }
      ]
    },
    {
      "cell_type": "markdown",
      "metadata": {
        "id": "ZFfk-1WHPnMO"
      },
      "source": [
        "### 15.\tPara que proporção de roubos de veículos em 2001 foi feita uma prisão?"
      ]
    },
    {
      "cell_type": "markdown",
      "metadata": {
        "id": "lR7OLOztmHR1"
      },
      "source": [
        "*Proporção de 10,41%*"
      ]
    },
    {
      "cell_type": "code",
      "metadata": {
        "id": "1yMp6l5gPopB",
        "colab": {
          "base_uri": "https://localhost:8080/"
        },
        "outputId": "a91183f4-8ed4-44a5-c9ee-bc25aa895d59"
      },
      "source": [
        "# calcula quantidade de prisoes em 2001\n",
        "qtd_prisoes_2001 = df.select(\"ID\",\"Arrest\",\"Year\").where(col(\"Arrest\")==\"true\").where(col(\"Year\")==\"2001\").count()\n",
        "qtd_prisoes_2001"
      ],
      "execution_count": 42,
      "outputs": [
        {
          "output_type": "execute_result",
          "data": {
            "text/plain": [
              "2152"
            ]
          },
          "metadata": {
            "tags": []
          },
          "execution_count": 42
        }
      ]
    },
    {
      "cell_type": "code",
      "metadata": {
        "colab": {
          "base_uri": "https://localhost:8080/"
        },
        "id": "r42V8MjjlDhL",
        "outputId": "b676cef1-3a36-4994-d76d-07f930547697"
      },
      "source": [
        "# calcula total de roubos em 2001\n",
        "qtd_roubos_2001 = df.select(\"ID\",\"Arrest\",\"Year\").where(col(\"Year\")==\"2001\").count()\n",
        "qtd_roubos_2001"
      ],
      "execution_count": 43,
      "outputs": [
        {
          "output_type": "execute_result",
          "data": {
            "text/plain": [
              "20669"
            ]
          },
          "metadata": {
            "tags": []
          },
          "execution_count": 43
        }
      ]
    },
    {
      "cell_type": "code",
      "metadata": {
        "colab": {
          "base_uri": "https://localhost:8080/"
        },
        "id": "CHS7Iuqzlmvf",
        "outputId": "351c91f2-238a-4dc3-8224-67ca557c5b3d"
      },
      "source": [
        "# calcula proporção de prisões de 2001\n",
        "proporcao_prisoes_2001 = qtd_prisoes_2001 / qtd_roubos_2001 * 100\n",
        "proporcao_prisoes_2001"
      ],
      "execution_count": 44,
      "outputs": [
        {
          "output_type": "execute_result",
          "data": {
            "text/plain": [
              "10.411727708161981"
            ]
          },
          "metadata": {
            "tags": []
          },
          "execution_count": 44
        }
      ]
    },
    {
      "cell_type": "markdown",
      "metadata": {
        "id": "mWFPytEyPpUJ"
      },
      "source": [
        "### 16.\tPara que proporção de roubos de veículos em 2007 foi feita uma prisão?"
      ]
    },
    {
      "cell_type": "markdown",
      "metadata": {
        "id": "Wmm_y9FHm3eu"
      },
      "source": [
        "*Proporção de 8,48%*"
      ]
    },
    {
      "cell_type": "code",
      "metadata": {
        "id": "qHLA2ylTPrSY",
        "colab": {
          "base_uri": "https://localhost:8080/"
        },
        "outputId": "c86354d4-d8cf-489e-bb8b-856214827db8"
      },
      "source": [
        " # calcula quantidade de prisoes em 2007\n",
        " qtd_prisoes_2007 = df.select(\"ID\",\"Arrest\",\"Year\").where(col(\"Arrest\")==\"true\").where(col(\"Year\")==\"2007\").count()\n",
        " qtd_prisoes_2007"
      ],
      "execution_count": 45,
      "outputs": [
        {
          "output_type": "execute_result",
          "data": {
            "text/plain": [
              "1212"
            ]
          },
          "metadata": {
            "tags": []
          },
          "execution_count": 45
        }
      ]
    },
    {
      "cell_type": "code",
      "metadata": {
        "colab": {
          "base_uri": "https://localhost:8080/"
        },
        "id": "fr1JdIQBmsJ3",
        "outputId": "1ae642e2-67a2-4446-b606-93ef59cb1dfa"
      },
      "source": [
        " # calcula total de roubos em 2007\n",
        " qtd_roubos_2007 = df.select(\"ID\",\"Arrest\",\"Year\").where(col(\"Year\")==\"2007\").count()\n",
        " qtd_roubos_2007"
      ],
      "execution_count": 46,
      "outputs": [
        {
          "output_type": "execute_result",
          "data": {
            "text/plain": [
              "14280"
            ]
          },
          "metadata": {
            "tags": []
          },
          "execution_count": 46
        }
      ]
    },
    {
      "cell_type": "code",
      "metadata": {
        "colab": {
          "base_uri": "https://localhost:8080/"
        },
        "id": "1PiD91PTmyM9",
        "outputId": "9ddf5a20-c1cf-418e-bd02-111f2a00978d"
      },
      "source": [
        "# calcula proporção de prisões de 2007\n",
        "proporcao_prisoes_2007 = qtd_prisoes_2007 / qtd_roubos_2007 * 100\n",
        "proporcao_prisoes_2007"
      ],
      "execution_count": 47,
      "outputs": [
        {
          "output_type": "execute_result",
          "data": {
            "text/plain": [
              "8.487394957983193"
            ]
          },
          "metadata": {
            "tags": []
          },
          "execution_count": 47
        }
      ]
    },
    {
      "cell_type": "markdown",
      "metadata": {
        "id": "16zsaPJOPtZs"
      },
      "source": [
        "### 17.\tPara que proporção de roubos de veículos em 2012 foi feita uma prisão?"
      ]
    },
    {
      "cell_type": "markdown",
      "metadata": {
        "id": "G_jAv6r5nXej"
      },
      "source": [
        "*A proporção é de 8,60%*"
      ]
    },
    {
      "cell_type": "code",
      "metadata": {
        "id": "f9a1ajOTPwzo",
        "colab": {
          "base_uri": "https://localhost:8080/"
        },
        "outputId": "a8b6c678-b199-4bbd-cb5e-ff7995cfbf76"
      },
      "source": [
        "# calcula quantidade de prisoes em 2012\n",
        "qtd_prisoes_2012 = df.select(\"ID\",\"Arrest\",\"Year\").where(col(\"Arrest\")==\"true\").where(col(\"Year\")==\"2012\").count()\n",
        "qtd_prisoes_2012"
      ],
      "execution_count": 48,
      "outputs": [
        {
          "output_type": "execute_result",
          "data": {
            "text/plain": [
              "550"
            ]
          },
          "metadata": {
            "tags": []
          },
          "execution_count": 48
        }
      ]
    },
    {
      "cell_type": "code",
      "metadata": {
        "colab": {
          "base_uri": "https://localhost:8080/"
        },
        "id": "6JsnoFhcnHj4",
        "outputId": "8fdfbb50-f7d1-4c03-d162-35ca286890c0"
      },
      "source": [
        "# calcula total de roubos em 2012\n",
        "qtd_roubos_2012 = df.select(\"ID\",\"Arrest\",\"Year\").where(col(\"Year\")==\"2012\").count()\n",
        "qtd_roubos_2012"
      ],
      "execution_count": 49,
      "outputs": [
        {
          "output_type": "execute_result",
          "data": {
            "text/plain": [
              "14092"
            ]
          },
          "metadata": {
            "tags": []
          },
          "execution_count": 49
        }
      ]
    },
    {
      "cell_type": "code",
      "metadata": {
        "colab": {
          "base_uri": "https://localhost:8080/"
        },
        "id": "5lJm1AFanN3c",
        "outputId": "e280c1e5-db0d-4a1b-fd77-abd0036a473c"
      },
      "source": [
        "# calcula proporção de prisões de 2012\n",
        "proporcao_prisoes_2012 = qtd_prisoes_2007 / qtd_roubos_2012 * 100\n",
        "proporcao_prisoes_2012"
      ],
      "execution_count": 50,
      "outputs": [
        {
          "output_type": "execute_result",
          "data": {
            "text/plain": [
              "8.60062446778314"
            ]
          },
          "metadata": {
            "tags": []
          },
          "execution_count": 50
        }
      ]
    },
    {
      "cell_type": "markdown",
      "metadata": {
        "id": "uM2BYnEnPzqX"
      },
      "source": [
        "### 18.\tQuais locais são os cinco principais locais para roubos de veículos, excluindo a categoria \"Outros\"? "
      ]
    },
    {
      "cell_type": "markdown",
      "metadata": {
        "id": "_pMpxZMcsjh7"
      },
      "source": [
        "*Os cinco principais locais são Street, Parking Lot/Garage, Alley, Gas Station e Driveway.*"
      ]
    },
    {
      "cell_type": "code",
      "metadata": {
        "colab": {
          "base_uri": "https://localhost:8080/"
        },
        "id": "2Gcl7tgAoCPL",
        "outputId": "022b96b2-df3c-491f-aaa0-d664b6f98eb9"
      },
      "source": [
        "df.groupBy(\"LocationDescription\").agg(countDistinct(\"ID\")).orderBy(col(\"count(DISTINCT ID)\").desc()).where(col(\"LocationDescription\")!=\"OTHER\").show(5)"
      ],
      "execution_count": 51,
      "outputs": [
        {
          "output_type": "stream",
          "text": [
            "+--------------------+------------------+\n",
            "| LocationDescription|count(DISTINCT ID)|\n",
            "+--------------------+------------------+\n",
            "|              STREET|            156564|\n",
            "|PARKING LOT/GARAG...|             14852|\n",
            "|               ALLEY|              2308|\n",
            "|         GAS STATION|              2111|\n",
            "|DRIVEWAY - RESIDE...|              1675|\n",
            "+--------------------+------------------+\n",
            "only showing top 5 rows\n",
            "\n"
          ],
          "name": "stdout"
        }
      ]
    }
  ]
}